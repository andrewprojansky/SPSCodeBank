{
 "cells": [
  {
   "cell_type": "markdown",
   "metadata": {},
   "source": [
    "# Welcome to Jupyter! \n",
    "\n",
    "### This is a master file going through everything we're going to go through in this little bootcamp, will all code filled in for you. Please play around with these examples or follow along if you're with us live. "
   ]
  },
  {
   "cell_type": "markdown",
   "metadata": {},
   "source": [
    "### Today we're going to walk through some key components of Python. \n",
    "\n",
    "Python, like many other programming languages, is incredibly versitle. There are ways to do some incredible things in python, and we hope to give you the introductory tools to start working to those potential uses. The focus of this presentation will be to work towards a later presentation/session, in which we look at the graphing capabilities in Matplotlib, a tool often used by physicist. \n",
    "\n",
    "No prior knowledge of python is required for working through these examples. They're specifically desinged for someone who has no experience with python, so if you've already taken the introductory course in computer science nearly everything should be review. We're going to go through topics in this order: \n",
    "\n",
    "##### 1. Number Types\n",
    "##### 2. Strings\n",
    "##### 3. Variables\n",
    "##### 4. Hello World\n",
    "##### 5. Arithmetic \n",
    "##### 6. List\n",
    "##### 7. Boolean\n",
    "##### 8. If Statements\n",
    "##### 9. Loops\n",
    "##### 10. Functions\n",
    "##### 11. Modules\n",
    "\n",
    "This is by no means the end of python. If you are interested in more, there are a wealth of resources and more linked on https://wiki.python.org/moin/BeginnersGuide. "
   ]
  },
  {
   "cell_type": "markdown",
   "metadata": {},
   "source": [
    "## 1. Number Types\n",
    "\n",
    "There are two types of numbers in python: integers, and floating point numbers. Integers are often called ints, and are our usual integers ({1,2,3...}). Floating point numbers are often referred to as floats, and are numbers with decimils after them. "
   ]
  },
  {
   "cell_type": "markdown",
   "metadata": {},
   "source": [
    "## 2. Strings\n",
    "\n",
    "Another data type we'll work with in python is called a string. A string is just a sentence: we can think of this text as a string! In python, we'll notate when we're working with this text obect by putting a quotation mark or an apostrophe around the words. \n",
    "\n",
    "Ex 1: \"This is a string\"\n",
    "\n",
    "Ex 2: 'This is also a string'\n",
    "\n",
    "We have to include a quotation mark or apostrophe around the words so python knows we're working with a sentence. Later on we'll see what happens if we attempt to display a string we don't have quotation marks on. "
   ]
  },
  {
   "cell_type": "markdown",
   "metadata": {},
   "source": [
    "## 3. Variables\n",
    "\n",
    "We can define variables to store the data types we've discussed, ints, floats, and strings. "
   ]
  },
  {
   "cell_type": "code",
   "execution_count": 3,
   "metadata": {},
   "outputs": [],
   "source": [
    "x = 2\n",
    "y = 3.14\n",
    "z = 'This is a string! Wow!'\n",
    "hw = 'Hello World'"
   ]
  },
  {
   "cell_type": "markdown",
   "metadata": {},
   "source": [
    "Now we've defined some variables. We've defined an integer x, a float y, and string z. We've also defined another string, hw, which we will use in the next section. "
   ]
  },
  {
   "cell_type": "markdown",
   "metadata": {},
   "source": [
    "# 4. Hello World (Print Statements)\n",
    "\n",
    "We now have enough background to run our first python function, often referred to as Hello World. Though at the end of this presentation we'll write our own functions, python has a large amount of built in functions which we can use, and will serve as our building blocks for anything else we want to build later on. \n",
    "\n",
    "Hello World uses the print function. The print function, written print(input), takes whatever we put into that input and displays it for us. "
   ]
  },
  {
   "cell_type": "code",
   "execution_count": 5,
   "metadata": {},
   "outputs": [
    {
     "name": "stdout",
     "output_type": "stream",
     "text": [
      "Hello World\n"
     ]
    }
   ],
   "source": [
    "print('Hello World')"
   ]
  },
  {
   "cell_type": "markdown",
   "metadata": {},
   "source": [
    "This is Hello World! We've executed our first python function, by printing this statement. Print statements are some of the most important functions in python; they can be used to display information, but they're also an essential tool for debugging, where we try to figure out what goes wrong in our code. \n",
    "\n",
    "In the code above we used the input 'Hello World' as the thing we were printing. But, in section 3, we defined a variable hw which was equal to the string 'Hello World'. If we print this variable instead..."
   ]
  },
  {
   "cell_type": "code",
   "execution_count": 6,
   "metadata": {},
   "outputs": [
    {
     "name": "stdout",
     "output_type": "stream",
     "text": [
      "Hello World\n"
     ]
    }
   ],
   "source": [
    "print(hw)"
   ]
  },
  {
   "cell_type": "markdown",
   "metadata": {},
   "source": [
    "We have again printed 'Hello World'. We can pass variables through (to our knowledge) any function, inlcuding the print function. As you can see it prints whatever we assigned the value of the variable to. We can print more than just strings, and we can find"
   ]
  },
  {
   "cell_type": "code",
   "execution_count": 7,
   "metadata": {},
   "outputs": [
    {
     "name": "stdout",
     "output_type": "stream",
     "text": [
      "2\n",
      "3.14\n",
      "This is a string! Wow!\n"
     ]
    }
   ],
   "source": [
    "print(x)\n",
    "print(y)\n",
    "print(z)"
   ]
  },
  {
   "cell_type": "markdown",
   "metadata": {},
   "source": [
    "We can print all kinds of things. If we pass any variable through the print function, it will print whatever value that variable holds."
   ]
  },
  {
   "cell_type": "markdown",
   "metadata": {},
   "source": [
    "We can also take print statements a bit further, and print things after we've manipulated the data in some way. If we look at "
   ]
  },
  {
   "cell_type": "code",
   "execution_count": 8,
   "metadata": {},
   "outputs": [
    {
     "name": "stdout",
     "output_type": "stream",
     "text": [
      "5.140000000000001\n"
     ]
    }
   ],
   "source": [
    "print(x+y)"
   ]
  },
  {
   "cell_type": "markdown",
   "metadata": {},
   "source": [
    "We find that we can pass the addition of variables x and y, and it'll print the completed addition. We can do something to a similar effect with strings, where we can add strings together in a way so they print together. In this next batch of code we'll define a new string variable, and then print it out along side of a different string."
   ]
  },
  {
   "cell_type": "code",
   "execution_count": 10,
   "metadata": {},
   "outputs": [
    {
     "name": "stdout",
     "output_type": "stream",
     "text": [
      "What club is organizing this event?: SPS\n"
     ]
    }
   ],
   "source": [
    "st = 'SPS'\n",
    "print('What club is organizing this event?: ' + st)"
   ]
  },
  {
   "cell_type": "markdown",
   "metadata": {},
   "source": [
    "We have passed the function two strings with an addition sign between them, so it's recognized that we're trying to concatenate two strings together into one object.  "
   ]
  },
  {
   "cell_type": "markdown",
   "metadata": {},
   "source": [
    "*We won't talk about this in the presentation, but a note if you're interested* Fill in later about addition of types together, and why some things are allowed and others aren't. "
   ]
  },
  {
   "cell_type": "markdown",
   "metadata": {},
   "source": [
    "There is a note above in more detail, but the above statement only works if the two objects we are trying to add are of the same type, or are defined to add together (we can add an integer with a float, but not a integer with a string). If we want to print multiple different types of objects together, we can use commas in our print statement. "
   ]
  },
  {
   "cell_type": "code",
   "execution_count": 15,
   "metadata": {},
   "outputs": [
    {
     "name": "stdout",
     "output_type": "stream",
     "text": [
      "What is the value of Pi?: 3.141592\n"
     ]
    }
   ],
   "source": [
    "number = 3.141592\n",
    "print('What is the value of Pi?:',number)"
   ]
  },
  {
   "cell_type": "markdown",
   "metadata": {},
   "source": [
    "It's important to note the way the addition sign and the comma treat spaces, as the comma will add a space inbetween the seperate objects we are trying to print. "
   ]
  },
  {
   "cell_type": "markdown",
   "metadata": {},
   "source": []
  }
 ],
 "metadata": {
  "kernelspec": {
   "display_name": "Python 3",
   "language": "python",
   "name": "python3"
  },
  "language_info": {
   "codemirror_mode": {
    "name": "ipython",
    "version": 3
   },
   "file_extension": ".py",
   "mimetype": "text/x-python",
   "name": "python",
   "nbconvert_exporter": "python",
   "pygments_lexer": "ipython3",
   "version": "3.8.3"
  }
 },
 "nbformat": 4,
 "nbformat_minor": 4
}
