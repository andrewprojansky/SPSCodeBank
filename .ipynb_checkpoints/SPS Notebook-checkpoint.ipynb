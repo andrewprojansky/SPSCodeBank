{
 "cells": [
  {
   "cell_type": "markdown",
   "metadata": {},
   "source": [
    "# Welcome to Jupyter! \n",
    "\n",
    "### This is a master file going through everything we're going to go through in this little bootcamp, will all code filled in for you. Please play around with these examples or follow along if you're with us live. "
   ]
  },
  {
   "cell_type": "markdown",
   "metadata": {},
   "source": [
    "### Today we're going to walk through some key components of Python. \n",
    "\n",
    "Python, like many other programming languages, is incredibly versitle. There are ways to do some incredible things in python, and we hope to give you the introductory tools to start working to those potential uses. The focus of this presentation will be to work towards a later presentation/session, in which we look at the graphing capabilities in Matplotlib, a tool often used by physicist. \n",
    "\n",
    "No prior knowledge of python is required for working through these examples. They're specifically desinged for someone who has no experience with python, so if you've already taken the introductory course in computer science nearly everything should be review. We're going to go through topics in this order: \n",
    "\n",
    "##### 1. Number Types\n",
    "##### 2. Strings\n",
    "##### 3. Variables\n",
    "##### 4. Hello World\n",
    "##### 5. Arithmetic \n",
    "##### 6. List\n",
    "##### 7. Boolean\n",
    "##### 8. If Statements\n",
    "##### 9. Loops\n",
    "##### 10. Functions\n",
    "##### 11. Modules\n",
    "\n",
    "This is by no means the end of python. If you are interested in more, there are a wealth of resources and more linked on https://wiki.python.org/moin/BeginnersGuide. "
   ]
  },
  {
   "cell_type": "markdown",
   "metadata": {},
   "source": [
    "## 1. Number Types\n",
    "\n",
    "There are two types of numbers in python: integers, and floating point numbers. Integers are often called ints, and are our usual integers ({1,2,3...}). Floating point numbers are often referred to as floats, and are numbers with decimils after them. "
   ]
  },
  {
   "cell_type": "markdown",
   "metadata": {},
   "source": [
    "## 2. Strings\n",
    "\n",
    "Another data type we'll work with in python is called a string. A string is just a sentence: we can think of this text as a string! In python, we'll notate when we're working with this text obect by putting a quotation mark or an apostrophe around the words. \n",
    "\n",
    "Ex 1: \"This is a string\"\n",
    "\n",
    "Ex 2: 'This is also a string'\n",
    "\n",
    "We have to include a quotation mark or apostrophe around the words so python knows we're working with a sentence. Later on we'll see what happens if we attempt to display a string we don't have quotation marks on. "
   ]
  },
  {
   "cell_type": "markdown",
   "metadata": {},
   "source": [
    "## 3. Variables\n",
    "\n",
    "We can define variables to store the data types we've discussed, ints, floats, and strings. It is important to note that variable names cannot have spaces in them - instead, you can distinguish between multiple words by either an underline like_this or using camelcase, likeThis. "
   ]
  },
  {
   "cell_type": "code",
   "execution_count": 5,
   "metadata": {},
   "outputs": [],
   "source": [
    "x = 2\n",
    "y = 3.14\n",
    "z = 'This is a string! Wow!'\n",
    "hw = 'Hello World'"
   ]
  },
  {
   "cell_type": "markdown",
   "metadata": {},
   "source": [
    "Now we've defined some variables. We've defined an integer x, a float y, and string z. We've also defined another string, hw, which we will use in the next section. "
   ]
  },
  {
   "cell_type": "markdown",
   "metadata": {},
   "source": [
    "# 4. Hello World (Print Statements)\n",
    "\n",
    "We now have enough background to run our first python function, often referred to as Hello World. Though at the end of this presentation we'll write our own functions, python has a large amount of built in functions which we can use, and will serve as our building blocks for anything else we want to build later on. \n",
    "\n",
    "Hello World uses the print function. The print function, written print(input), takes whatever we put into that input and displays it for us. "
   ]
  },
  {
   "cell_type": "code",
   "execution_count": 5,
   "metadata": {},
   "outputs": [
    {
     "name": "stdout",
     "output_type": "stream",
     "text": [
      "Hello World\n"
     ]
    }
   ],
   "source": [
    "print('Hello World')"
   ]
  },
  {
   "cell_type": "markdown",
   "metadata": {},
   "source": [
    "This is Hello World! We've executed our first python function, by printing this statement. Print statements are some of the most important functions in python; they can be used to display information, but they're also an essential tool for debugging, where we try to figure out what goes wrong in our code. \n",
    "\n",
    "In the code above we used the input 'Hello World' as the thing we were printing. But, in section 3, we defined a variable hw which was equal to the string 'Hello World'. If we print this variable instead..."
   ]
  },
  {
   "cell_type": "code",
   "execution_count": 6,
   "metadata": {},
   "outputs": [
    {
     "name": "stdout",
     "output_type": "stream",
     "text": [
      "Hello World\n"
     ]
    }
   ],
   "source": [
    "print(hw)"
   ]
  },
  {
   "cell_type": "markdown",
   "metadata": {},
   "source": [
    "We have again printed 'Hello World'. We can pass variables through (to our knowledge) any function, inlcuding the print function. As you can see it prints whatever we assigned the value of the variable to. We can print more than just strings, and we can find"
   ]
  },
  {
   "cell_type": "code",
   "execution_count": 7,
   "metadata": {},
   "outputs": [
    {
     "name": "stdout",
     "output_type": "stream",
     "text": [
      "2\n",
      "3.14\n",
      "This is a string! Wow!\n"
     ]
    }
   ],
   "source": [
    "print(x)\n",
    "print(y)\n",
    "print(z)"
   ]
  },
  {
   "cell_type": "markdown",
   "metadata": {},
   "source": [
    "We can print all kinds of things. If we pass any variable through the print function, it will print whatever value that variable holds."
   ]
  },
  {
   "cell_type": "markdown",
   "metadata": {},
   "source": [
    "We can also take print statements a bit further, and print things after we've manipulated the data in some way. If we look at "
   ]
  },
  {
   "cell_type": "code",
   "execution_count": 8,
   "metadata": {},
   "outputs": [
    {
     "name": "stdout",
     "output_type": "stream",
     "text": [
      "5.140000000000001\n"
     ]
    }
   ],
   "source": [
    "print(x+y)"
   ]
  },
  {
   "cell_type": "markdown",
   "metadata": {},
   "source": [
    "We find that we can pass the addition of variables x and y, and it'll print the completed addition. We can do something to a similar effect with strings, where we can add strings together in a way so they print together. In this next batch of code we'll define a new string variable, and then print it out along side of a different string."
   ]
  },
  {
   "cell_type": "code",
   "execution_count": 10,
   "metadata": {},
   "outputs": [
    {
     "name": "stdout",
     "output_type": "stream",
     "text": [
      "What club is organizing this event?: SPS\n"
     ]
    }
   ],
   "source": [
    "st = 'SPS'\n",
    "print('What club is organizing this event?: ' + st)"
   ]
  },
  {
   "cell_type": "markdown",
   "metadata": {},
   "source": [
    "We have passed the function two strings with an addition sign between them, so it's recognized that we're trying to concatenate two strings together into one object.  "
   ]
  },
  {
   "cell_type": "markdown",
   "metadata": {},
   "source": [
    "*We won't talk about this in the presentation, but a note if you're interested* Fill in later about addition of types together, and why some things are allowed and others aren't. "
   ]
  },
  {
   "cell_type": "markdown",
   "metadata": {},
   "source": [
    "There is a note above in more detail, but the above statement only works if the two objects we are trying to add are of the same type, or are defined to add together (we can add an integer with a float, but not a integer with a string). If we want to print multiple different types of objects together, we can use commas in our print statement. "
   ]
  },
  {
   "cell_type": "code",
   "execution_count": 15,
   "metadata": {},
   "outputs": [
    {
     "name": "stdout",
     "output_type": "stream",
     "text": [
      "What is the value of Pi?: 3.141592\n"
     ]
    }
   ],
   "source": [
    "number = 3.141592\n",
    "print('What is the value of Pi?:',number)"
   ]
  },
  {
   "cell_type": "markdown",
   "metadata": {},
   "source": [
    "It's important to note the way the addition sign and the comma treat spaces, as the comma will add a space inbetween the seperate objects we are trying to print. "
   ]
  },
  {
   "cell_type": "markdown",
   "metadata": {},
   "source": [
    "# 5. Arithmetic Operators\n",
    "As we've seen in some of the above examples, one of the things you can do with numbers is performing various arithmetic operators on them. This works much in the same was as arithmetic operators do normally, but with some intricacies which are important to keep track of, to make sure you get the results you expect! \n",
    "\n",
    "Addition, subtraction, multiplication, and division work in Python in the same way that they do normally, so you can do,"
   ]
  },
  {
   "cell_type": "code",
   "execution_count": 4,
   "metadata": {},
   "outputs": [
    {
     "name": "stdout",
     "output_type": "stream",
     "text": [
      "6\n",
      "-2\n",
      "8\n",
      "0.5\n",
      "0\n"
     ]
    }
   ],
   "source": [
    "x = 2\n",
    "y = 4\n",
    "print(x+y)\n",
    "print(x - y)\n",
    "print(x*y)\n",
    "print(x/y)\n",
    "print(x//y)"
   ]
  },
  {
   "cell_type": "markdown",
   "metadata": {},
   "source": [
    "Here, the printed results of these various arithmetic operations are pretty much exactly what we would exepct. The exception here is the // operator: this divides the numbers and rounds down the result to the lower integer, or cuts off the decimal points. \n",
    "\n",
    "You can also compare numbers to one another - something that is particularly useful in the conditional statements, as we'll be talking about shortly. To compare values, we use the following symbols:\n",
    "\n",
    "##### \\> : greater than\n",
    "##### < : less than\n",
    "##### \\>= : greater than or equal to\n",
    "##### <= : less than or equal to\n",
    "\n",
    "The result of comparing two numbers returns a \"True\" or \"False\" statement depending on the truth of the statement. For example,"
   ]
  },
  {
   "cell_type": "code",
   "execution_count": 3,
   "metadata": {},
   "outputs": [
    {
     "name": "stdout",
     "output_type": "stream",
     "text": [
      "False\n"
     ]
    }
   ],
   "source": [
    "print(3 < 2)"
   ]
  },
  {
   "cell_type": "markdown",
   "metadata": {},
   "source": [
    "# 6. Lists\n",
    "\n",
    "We now have a bunch of variables that are either numbers or strings - maybe now we want to have a way to store all these values in a single variable. This can be used whenever you want to keep track of all these variables in one place. Lists are defined by placing square brackets \\[\\] around the items inside the list, which are separated by a comma. "
   ]
  },
  {
   "cell_type": "code",
   "execution_count": 6,
   "metadata": {},
   "outputs": [],
   "source": [
    "physics_professors = [\"brian\", \"kate\", \"gordon\", \"seth\", \"viva\", \"megan\", \"kristen\"]"
   ]
  },
  {
   "cell_type": "markdown",
   "metadata": {},
   "source": [
    "Here, we see a list of the physics faculty. Python has a particularly useful feature that lets you see what is inside of a list by simply printing the list"
   ]
  },
  {
   "cell_type": "code",
   "execution_count": 7,
   "metadata": {},
   "outputs": [
    {
     "name": "stdout",
     "output_type": "stream",
     "text": [
      "['brian', 'kate', 'gordon', 'seth', 'viva', 'megan', 'kristen']\n"
     ]
    }
   ],
   "source": [
    "print(physics_professors)"
   ]
  },
  {
   "cell_type": "markdown",
   "metadata": {},
   "source": [
    "though it is not necessarily formatted in the cleanest way, it does allow you to see what was inside a given list. One of the cool things about lists is that you can mix and match what kind of varibles are in the list, so you can have a list that contains both numbers and strings. This can cause some errors though if you're not careful though!\n",
    "\n",
    "Similarly to print statements, if you put a variable inside of a list the list stores what is inside of the variable, not just the variable itself. As we can see, "
   ]
  },
  {
   "cell_type": "code",
   "execution_count": 12,
   "metadata": {},
   "outputs": [
    {
     "name": "stdout",
     "output_type": "stream",
     "text": [
      "[10, 23, 'hi i am a string']\n"
     ]
    }
   ],
   "source": [
    "x = 10\n",
    "y = 23\n",
    "z = \"hi i am a string\"\n",
    "a_list = [x, y, z]\n",
    "print(a_list)"
   ]
  },
  {
   "cell_type": "markdown",
   "metadata": {},
   "source": [
    "this list contains all of the elements inside these variables! Note that the list does not necessarily update as the variables are updated. For example, if we look at the same code, we see "
   ]
  },
  {
   "cell_type": "code",
   "execution_count": 13,
   "metadata": {},
   "outputs": [
    {
     "name": "stdout",
     "output_type": "stream",
     "text": [
      "[10, 23, 'hi i am a string']\n",
      "[10, 23, 'hi i am a string']\n"
     ]
    }
   ],
   "source": [
    "x = 10\n",
    "y = 23\n",
    "z = \"hi i am a string\"\n",
    "a_list = [x, y, z]\n",
    "print(a_list)\n",
    "x = \"now i am a string too!\"\n",
    "print(a_list)"
   ]
  },
  {
   "cell_type": "markdown",
   "metadata": {},
   "source": [
    "what is inside of the list does not change even if we change the value of x! We have to redefine the list in order for the update to take place."
   ]
  },
  {
   "cell_type": "markdown",
   "metadata": {},
   "source": [
    "# 7. Booleans and Conditionals\n",
    "As mentioned in the section on operators, one of the things that Python has ingrained in the system "
   ]
  }
 ],
 "metadata": {
  "kernelspec": {
   "display_name": "Python 3",
   "language": "python",
   "name": "python3"
  },
  "language_info": {
   "codemirror_mode": {
    "name": "ipython",
    "version": 3
   },
   "file_extension": ".py",
   "mimetype": "text/x-python",
   "name": "python",
   "nbconvert_exporter": "python",
   "pygments_lexer": "ipython3",
   "version": "3.7.6"
  }
 },
 "nbformat": 4,
 "nbformat_minor": 4
}
